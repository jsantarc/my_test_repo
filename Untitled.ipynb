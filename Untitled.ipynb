{
 "cells": [
  {
   "cell_type": "code",
   "execution_count": 55,
   "id": "0e24e1a7-72b0-46f7-8bc6-1a31e388c8bb",
   "metadata": {},
   "outputs": [],
   "source": [
    "import numpy as np\n",
    "from scipy.special import softmax"
   ]
  },
  {
   "cell_type": "code",
   "execution_count": 75,
   "id": "19247c12-1c84-4422-a850-651ebaecef1a",
   "metadata": {},
   "outputs": [
    {
     "data": {
      "text/plain": [
       "array([[1, 1, 0, 0, 0],\n",
       "       [0, 1, 0, 1, 1],\n",
       "       [0, 0, 0, 0, 0],\n",
       "       [1, 1, 0, 0, 1],\n",
       "       [0, 0, 1, 0, 0]])"
      ]
     },
     "execution_count": 75,
     "metadata": {},
     "output_type": "execute_result"
    }
   ],
   "source": [
    "X=np.array([[1,1,0,0,0],[0,1,0,1,1],[0,0,0,0,0],[1,1,0,0,1],[0,0,1,0,0]])\n",
    "X"
   ]
  },
  {
   "cell_type": "code",
   "execution_count": 76,
   "id": "6c158251-2909-4daf-9de3-8cd7039f5071",
   "metadata": {},
   "outputs": [
    {
     "data": {
      "text/plain": [
       "array([[ 1.,  1., -1., -1., -1.],\n",
       "       [-1.,  1., -1.,  1.,  1.],\n",
       "       [-1., -1., -1., -1., -1.],\n",
       "       [ 1.,  1., -1., -1.,  1.],\n",
       "       [-1., -1.,  1., -1., -1.]])"
      ]
     },
     "execution_count": 76,
     "metadata": {},
     "output_type": "execute_result"
    }
   ],
   "source": [
    "Q_w=2*np.eye(5)\n",
    "Q=Q_w@X-1\n",
    "Q"
   ]
  },
  {
   "cell_type": "code",
   "execution_count": null,
   "id": "44d0e216-a7d0-4017-aa9d-cd8ba1e13fbe",
   "metadata": {},
   "outputs": [],
   "source": []
  },
  {
   "cell_type": "code",
   "execution_count": 79,
   "id": "0c8b7160-3bd8-4ebe-937a-2703dd19df31",
   "metadata": {},
   "outputs": [
    {
     "data": {
      "text/plain": [
       "5"
      ]
     },
     "execution_count": 79,
     "metadata": {},
     "output_type": "execute_result"
    }
   ],
   "source": [
    "5"
   ]
  },
  {
   "cell_type": "code",
   "execution_count": 85,
   "id": "804afb38-43ce-4905-a542-73baeb0866fc",
   "metadata": {},
   "outputs": [
    {
     "data": {
      "text/plain": [
       "array([[-1., -1.,  1.,  1.,  1.],\n",
       "       [ 1., -1.,  1., -1., -1.],\n",
       "       [ 1.,  1.,  1.,  1.,  1.],\n",
       "       [-1., -1.,  1.,  1., -1.],\n",
       "       [ 1.,  1., -1.,  1.,  1.]])"
      ]
     },
     "execution_count": 85,
     "metadata": {},
     "output_type": "execute_result"
    }
   ],
   "source": [
    "V_w=-2*np.eye(5)\n",
    "V=V_w@X+1\n",
    "V"
   ]
  },
  {
   "cell_type": "code",
   "execution_count": null,
   "id": "f49b6a38-3920-4752-83c0-9a69b7a3aa1a",
   "metadata": {},
   "outputs": [],
   "source": [
    "np.eye("
   ]
  },
  {
   "cell_type": "code",
   "execution_count": 93,
   "id": "c68e6614-43e6-49a9-b5ab-18fc4869d580",
   "metadata": {},
   "outputs": [
    {
     "data": {
      "text/plain": [
       "array([[1, 1, 0, 0, 0],\n",
       "       [0, 1, 0, 1, 1],\n",
       "       [0, 0, 0, 0, 0],\n",
       "       [1, 1, 0, 0, 1],\n",
       "       [0, 0, 1, 0, 0]])"
      ]
     },
     "execution_count": 93,
     "metadata": {},
     "output_type": "execute_result"
    }
   ],
   "source": [
    "K=X\n",
    "K"
   ]
  },
  {
   "cell_type": "code",
   "execution_count": 87,
   "id": "5a5e37bc-feef-462c-be2a-b1974cb2adc4",
   "metadata": {},
   "outputs": [
    {
     "data": {
      "text/plain": [
       "array([[ 2., -1.,  0.,  1., -1.],\n",
       "       [ 0.,  3.,  0.,  1., -1.],\n",
       "       [-2., -3.,  0., -3., -1.],\n",
       "       [ 2.,  1.,  0.,  3., -1.],\n",
       "       [-2., -3.,  0., -3.,  1.]])"
      ]
     },
     "execution_count": 87,
     "metadata": {},
     "output_type": "execute_result"
    }
   ],
   "source": [
    "Q@K.T"
   ]
  },
  {
   "cell_type": "code",
   "execution_count": 90,
   "id": "fc534467-e855-4f17-9c23-86ffe3a75718",
   "metadata": {},
   "outputs": [
    {
     "data": {
      "text/plain": [
       "array([[0.6239125 , 0.03106277, 0.08443737, 0.22952458, 0.03106277],\n",
       "       [0.03972716, 0.79794127, 0.03972716, 0.10798961, 0.0146148 ],\n",
       "       [0.08443737, 0.03106277, 0.6239125 , 0.03106277, 0.22952458],\n",
       "       [0.23412166, 0.08612854, 0.03168492, 0.63640865, 0.01165623],\n",
       "       [0.03423444, 0.01259415, 0.25296019, 0.01259415, 0.68761708]])"
      ]
     },
     "execution_count": 90,
     "metadata": {},
     "output_type": "execute_result"
    }
   ],
   "source": [
    "A=softmax(Q@K.T,axis=1)\n",
    "A"
   ]
  },
  {
   "cell_type": "code",
   "execution_count": 92,
   "id": "4686c0bd-39d6-4589-ac60-1e1b44b0865f",
   "metadata": {},
   "outputs": [
    {
     "data": {
      "text/plain": [
       "array([[-0., -0.,  1.,  1.,  1.],\n",
       "       [ 1., -0.,  1., -0., -0.],\n",
       "       [ 1.,  1.,  1.,  1.,  1.],\n",
       "       [-0., -0.,  1.,  1., -0.],\n",
       "       [ 1.,  1., -0.,  1.,  1.]])"
      ]
     },
     "execution_count": 92,
     "metadata": {},
     "output_type": "execute_result"
    }
   ],
   "source": [
    "np.ceil(A@V)"
   ]
  },
  {
   "cell_type": "code",
   "execution_count": 7,
   "id": "f6f05979-1e98-4d90-b3d6-72b9e9d06392",
   "metadata": {},
   "outputs": [],
   "source": [
    "V=np.array([[-1,-1,1,1,1],[1,-1,1,-1,-1],[1,1,1,1,1],[-1,-1,1,1,-1],[1,1,-1,1,1]])"
   ]
  },
  {
   "cell_type": "code",
   "execution_count": 10,
   "id": "6d8db60d-8037-46f4-a215-8c735f487c89",
   "metadata": {},
   "outputs": [
    {
     "data": {
      "text/plain": [
       "array([[-0.71, -0.77,  0.93,  0.93,  0.47],\n",
       "       [ 0.7 , -0.9 ,  0.98, -0.6 , -0.82],\n",
       "       [ 0.77,  0.71,  0.53,  0.93,  0.87],\n",
       "       [-0.72, -0.9 ,  0.96,  0.8 , -0.44],\n",
       "       [ 0.91,  0.89, -0.39,  0.97,  0.95]])"
      ]
     },
     "execution_count": 10,
     "metadata": {},
     "output_type": "execute_result"
    }
   ],
   "source": [
    "New=A@V\n",
    "New"
   ]
  },
  {
   "cell_type": "code",
   "execution_count": 22,
   "id": "6cbe840e-f8fa-4876-bccd-041a8ffc686c",
   "metadata": {},
   "outputs": [
    {
     "data": {
      "text/plain": [
       "array([[-0., -0.,  1.,  1.,  1.],\n",
       "       [ 1., -0.,  1., -0., -0.],\n",
       "       [ 1.,  1.,  1.,  1.,  1.],\n",
       "       [-0., -0.,  1.,  1., -0.],\n",
       "       [ 1.,  1., -0.,  1.,  1.]])"
      ]
     },
     "execution_count": 22,
     "metadata": {},
     "output_type": "execute_result"
    }
   ],
   "source": [
    "np.ceil(New)"
   ]
  },
  {
   "cell_type": "code",
   "execution_count": null,
   "id": "61021563-e7cb-4f25-872c-7a22da175396",
   "metadata": {},
   "outputs": [],
   "source": []
  }
 ],
 "metadata": {
  "kernelspec": {
   "display_name": "Python 3 (ipykernel)",
   "language": "python",
   "name": "python3"
  },
  "language_info": {
   "codemirror_mode": {
    "name": "ipython",
    "version": 3
   },
   "file_extension": ".py",
   "mimetype": "text/x-python",
   "name": "python",
   "nbconvert_exporter": "python",
   "pygments_lexer": "ipython3",
   "version": "3.9.9"
  }
 },
 "nbformat": 4,
 "nbformat_minor": 5
}
